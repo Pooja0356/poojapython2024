celcius = float(input("enter temperature in celcius:"))
fahrenheit = (celcius* 9/5) + 32
print("Temperature in Fahrenheit:", fahrenheit)
