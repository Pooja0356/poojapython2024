{
  "nbformat": 4,
  "nbformat_minor": 0,
  "metadata": {
    "colab": {
      "provenance": []
    },
    "kernelspec": {
      "name": "python3",
      "display_name": "Python 3"
    },
    "language_info": {
      "name": "python"
    }
  },
  "cells": [
    {
      "cell_type": "markdown",
      "source": [
        "Write a program that checks if a number entered by user is divisible by both 2 and 3"
      ],
      "metadata": {
        "id": "ZgzpRVs_EVQs"
      }
    },
    {
      "cell_type": "code",
      "source": [
        "number = int(input(\"enter a number:\"))\n",
        "if number % 2 == 0 and number % 3 == 0:\n",
        "  print(f\"{number} is divisible by both 2 and 3.\")\n",
        "else:\n",
        "  print(f\"{number} is not divisible by both 2 and 3.\")\n",
        ""
      ],
      "metadata": {
        "colab": {
          "base_uri": "https://localhost:8080/"
        },
        "id": "4v8LDtwmEcHJ",
        "outputId": "aa968596-ebbe-4c3d-bf8f-12a884f672be"
      },
      "execution_count": 2,
      "outputs": [
        {
          "output_type": "stream",
          "name": "stdout",
          "text": [
            "enter a number:5\n",
            "5 is not divisible by both 2 and 3.\n"
          ]
        }
      ]
    },
    {
      "cell_type": "markdown",
      "source": [
        "Write a python program this print \"Hello\" if a number is greater than 10, otherwise print \"Good bye\"."
      ],
      "metadata": {
        "id": "DDO6bCECFREI"
      }
    },
    {
      "cell_type": "code",
      "source": [
        "number = int(input(\"enter a number:\"))\n",
        "if number > 10:\n",
        "  print(\"hello\")\n",
        "else:\n",
        "  print(\"goodbye\")"
      ],
      "metadata": {
        "colab": {
          "base_uri": "https://localhost:8080/"
        },
        "id": "DYZIYHPWFyv7",
        "outputId": "8b25ac98-b60d-4826-fdc1-017c9aa73698"
      },
      "execution_count": 3,
      "outputs": [
        {
          "output_type": "stream",
          "name": "stdout",
          "text": [
            "enter a number:14\n",
            "hello\n"
          ]
        }
      ]
    },
    {
      "cell_type": "markdown",
      "source": [
        "Write a program to find out if a number is divisible by 5 but not by 10."
      ],
      "metadata": {
        "id": "AGgW9whxGPVJ"
      }
    },
    {
      "cell_type": "code",
      "source": [
        "number = int(input(\"enter a number:\"))\n",
        "if number % 5 == 0 and number % 10 != 0:\n",
        "  print(f\"{number} is divisible by 5 but not by 10.\")\n",
        "else:\n",
        "  print(f\"{number} does not meet the condition.\")"
      ],
      "metadata": {
        "colab": {
          "base_uri": "https://localhost:8080/"
        },
        "id": "VJVn9OTMGg4g",
        "outputId": "35078e0f-f40c-46ea-c2fd-4cc0a18a632a"
      },
      "execution_count": 4,
      "outputs": [
        {
          "output_type": "stream",
          "name": "stdout",
          "text": [
            "enter a number:20\n",
            "20 does not meet the condition.\n"
          ]
        }
      ]
    },
    {
      "cell_type": "markdown",
      "source": [
        "Write a program to find whether a number is between 100 and 200(inclusive)"
      ],
      "metadata": {
        "id": "_sOfY4XIHqeK"
      }
    },
    {
      "cell_type": "code",
      "source": [
        "number = int(input(\"enter a number:\"))\n",
        "if 100 <= number <= 200:\n",
        "  print(f\"{number} is betweeen 100 and 200 inclusive.\")\n",
        "else:\n",
        "  print(f\"{number} is not between  100 and 200 inclusive\")"
      ],
      "metadata": {
        "colab": {
          "base_uri": "https://localhost:8080/"
        },
        "id": "Lx4OBHBqIAix",
        "outputId": "9c655846-5523-4aaa-d81a-5e04add36f5f"
      },
      "execution_count": 5,
      "outputs": [
        {
          "output_type": "stream",
          "name": "stdout",
          "text": [
            "enter a number:120\n",
            "120 is betweeen 100 and 200 inclusive.\n"
          ]
        }
      ]
    },
    {
      "cell_type": "markdown",
      "source": [
        "write a program to find whether a number is between 50 and 100(exclusive)"
      ],
      "metadata": {
        "id": "IkiFTvlgI2rv"
      }
    },
    {
      "cell_type": "code",
      "source": [
        "number = int(input(\"enter a number:\"))\n",
        "if 50 < number < 100:\n",
        "  print(f\"{number} is between 50 and 100 exclusive.\")\n",
        "else:\n",
        "  print(f\"{number} is not between 50 and 100 exclusive.\")"
      ],
      "metadata": {
        "colab": {
          "base_uri": "https://localhost:8080/"
        },
        "id": "INDOLXP7JEZ9",
        "outputId": "173514fa-4afe-4021-d6ad-39f059d07dd7"
      },
      "execution_count": 6,
      "outputs": [
        {
          "output_type": "stream",
          "name": "stdout",
          "text": [
            "enter a number:50\n",
            "50 is not between 50 and 100 exclusive.\n"
          ]
        }
      ]
    },
    {
      "cell_type": "markdown",
      "source": [
        "Write a program to print a message if a number is greater than 100 but less than 500"
      ],
      "metadata": {
        "id": "JLfuUMlZJ-xe"
      }
    },
    {
      "cell_type": "code",
      "source": [
        "number = int(input(\"enter a number:\"))\n",
        "if 100 < number < 500:\n",
        "  print(f\"{number} is greater than 100 but les than 500.\")\n",
        "else:\n",
        "  print(f\"{number} is not in the range 101 and 499.\")\n",
        ""
      ],
      "metadata": {
        "colab": {
          "base_uri": "https://localhost:8080/"
        },
        "id": "WI_ErT_7KbDl",
        "outputId": "1ef2a339-eb28-4d9c-e092-3771cab39201"
      },
      "execution_count": 7,
      "outputs": [
        {
          "output_type": "stream",
          "name": "stdout",
          "text": [
            "enter a number:50\n",
            "50 is not in the range 101 and 499.\n"
          ]
        }
      ]
    },
    {
      "cell_type": "markdown",
      "source": [
        "Write a program to print all numbers from 1 to 10 using a for loop"
      ],
      "metadata": {
        "id": "BZKRLzPJLL6d"
      }
    },
    {
      "cell_type": "code",
      "source": [
        "for number in range (1,11):\n",
        "  print(number)"
      ],
      "metadata": {
        "colab": {
          "base_uri": "https://localhost:8080/"
        },
        "id": "EcJfaWtwLrOt",
        "outputId": "a2dbc939-b939-4adf-c748-80159ff58a8e"
      },
      "execution_count": 8,
      "outputs": [
        {
          "output_type": "stream",
          "name": "stdout",
          "text": [
            "1\n",
            "2\n",
            "3\n",
            "4\n",
            "5\n",
            "6\n",
            "7\n",
            "8\n",
            "9\n",
            "10\n"
          ]
        }
      ]
    },
    {
      "cell_type": "markdown",
      "source": [
        "Write a program to print the first 10 even numbers using for a loop"
      ],
      "metadata": {
        "id": "fAGmyjywL1kU"
      }
    },
    {
      "cell_type": "code",
      "source": [
        "for i in range (1,11):\n",
        " print(i*2)"
      ],
      "metadata": {
        "colab": {
          "base_uri": "https://localhost:8080/"
        },
        "id": "gn32HpT-MUn5",
        "outputId": "22f5c80e-90c6-4867-a7e1-0b88e5af9c78"
      },
      "execution_count": 10,
      "outputs": [
        {
          "output_type": "stream",
          "name": "stdout",
          "text": [
            "2\n",
            "4\n",
            "6\n",
            "8\n",
            "10\n",
            "12\n",
            "14\n",
            "16\n",
            "18\n",
            "20\n"
          ]
        }
      ]
    },
    {
      "cell_type": "markdown",
      "source": [
        "Write a program to sum all the numbers from 1 to 100 using for loop"
      ],
      "metadata": {
        "id": "xiX66iqfMvLf"
      }
    },
    {
      "cell_type": "code",
      "source": [
        "total = 0\n",
        "for number in range (1,101):\n",
        "  total += number\n",
        "print(\"the sum of numbers from 1 to 100 is:\", total)"
      ],
      "metadata": {
        "colab": {
          "base_uri": "https://localhost:8080/"
        },
        "id": "t4RMd4wkNEJs",
        "outputId": "a3fe3790-655e-48b4-b756-0cfc35af6a6b"
      },
      "execution_count": 12,
      "outputs": [
        {
          "output_type": "stream",
          "name": "stdout",
          "text": [
            "the sum of numbers from 1 to 100 is: 5050\n"
          ]
        }
      ]
    },
    {
      "cell_type": "markdown",
      "source": [
        "Write a program to print the multiplication table of 7 using a for loop"
      ],
      "metadata": {
        "id": "vewcV82wOENW"
      }
    },
    {
      "cell_type": "code",
      "source": [
        "for i in range (1,11):\n",
        "  print(f\"7 * {i} = {7 * i}\")"
      ],
      "metadata": {
        "colab": {
          "base_uri": "https://localhost:8080/"
        },
        "id": "F3VtJFxbOV57",
        "outputId": "7291e7bd-cbda-46b7-fb76-4ec195d468ff"
      },
      "execution_count": 13,
      "outputs": [
        {
          "output_type": "stream",
          "name": "stdout",
          "text": [
            "7 * 1 = 7\n",
            "7 * 2 = 14\n",
            "7 * 3 = 21\n",
            "7 * 4 = 28\n",
            "7 * 5 = 35\n",
            "7 * 6 = 42\n",
            "7 * 7 = 49\n",
            "7 * 8 = 56\n",
            "7 * 9 = 63\n",
            "7 * 10 = 70\n"
          ]
        }
      ]
    },
    {
      "cell_type": "markdown",
      "source": [
        "Write a program to reverse a string using a while loop"
      ],
      "metadata": {
        "id": "Q6Smw8x0O3hb"
      }
    },
    {
      "cell_type": "code",
      "source": [
        "string = input(\"enter a string: \")\n",
        "reversed_string = \"\"\n",
        "index = len(string) - 1\n",
        "while index >= 0:\n",
        "  reversed_string += string[index]\n",
        "  index -=1\n",
        "print(\"the reversed string:\", reversed_string)"
      ],
      "metadata": {
        "colab": {
          "base_uri": "https://localhost:8080/"
        },
        "id": "N6kN7GRYPFvC",
        "outputId": "c1136a34-ab71-43d9-941e-4707985c5f4b"
      },
      "execution_count": 16,
      "outputs": [
        {
          "output_type": "stream",
          "name": "stdout",
          "text": [
            "enter a string: \"POOJA_PUJERI\"\n",
            "the reversed string: \"IREJUP_AJOOP\"\n"
          ]
        }
      ]
    },
    {
      "cell_type": "markdown",
      "source": [
        "Write a program to print all odd numbers from 1 to 20 using while loop"
      ],
      "metadata": {
        "id": "hUCjC2yrQRYm"
      }
    },
    {
      "cell_type": "code",
      "source": [
        "number = 1\n",
        "while number <= 20:\n",
        "  print(number)\n",
        "  number += 2"
      ],
      "metadata": {
        "colab": {
          "base_uri": "https://localhost:8080/"
        },
        "id": "tIazzj8ZQvYa",
        "outputId": "298fa8fc-083e-40dc-fc5c-a7e6ed2467a5"
      },
      "execution_count": 17,
      "outputs": [
        {
          "output_type": "stream",
          "name": "stdout",
          "text": [
            "1\n",
            "3\n",
            "5\n",
            "7\n",
            "9\n",
            "11\n",
            "13\n",
            "15\n",
            "17\n",
            "19\n"
          ]
        }
      ]
    },
    {
      "cell_type": "markdown",
      "source": [
        "Write a program to count the number of specific character appears in a string using a loop"
      ],
      "metadata": {
        "id": "k5-iCHE4RX7V"
      }
    },
    {
      "cell_type": "code",
      "source": [
        "string = input(\"enter a string:\")\n",
        "char_to_count = input(\"enter the character to count:\")\n",
        "count = 0\n",
        "for char in string:\n",
        "  if char == char_to_count:\n",
        "    count += 1\n",
        "print(f\"the character'{char_to_count}' appears {count} times in the string.\")"
      ],
      "metadata": {
        "colab": {
          "base_uri": "https://localhost:8080/"
        },
        "id": "3x-Ro3cLRnkL",
        "outputId": "b72291f9-80fa-4e5d-e8a5-765e1ebc54db"
      },
      "execution_count": 20,
      "outputs": [
        {
          "output_type": "stream",
          "name": "stdout",
          "text": [
            "enter a string:\"pooja_p\"\n",
            "enter the character to count:5\n",
            "the character'5' appears 0 times in the string.\n"
          ]
        }
      ]
    },
    {
      "cell_type": "markdown",
      "source": [
        "Write a program to print a pattren of stars (loop)"
      ],
      "metadata": {
        "id": "FfHrze61S_CZ"
      }
    },
    {
      "cell_type": "code",
      "source": [
        "rows = int(input(\"enter the number of rows for the pattern:\"))\n",
        "for i in range(1, rows + 1):\n",
        "  print(\"*\" * i)"
      ],
      "metadata": {
        "colab": {
          "base_uri": "https://localhost:8080/"
        },
        "id": "1MEG9zxQVpRW",
        "outputId": "b2e8766d-c07a-47e6-e17a-c55ae8f92dab"
      },
      "execution_count": 21,
      "outputs": [
        {
          "output_type": "stream",
          "name": "stdout",
          "text": [
            "enter the number of rows for the pattern:6\n",
            "*\n",
            "**\n",
            "***\n",
            "****\n",
            "*****\n",
            "******\n"
          ]
        }
      ]
    },
    {
      "cell_type": "markdown",
      "source": [
        "Write a program to print the sum of all even numbers from 1 to 50 using a for loop"
      ],
      "metadata": {
        "id": "8IkBjdeeWfJ2"
      }
    },
    {
      "cell_type": "code",
      "source": [
        "total_sum = 0\n",
        "for number in range (2, 51, 2):\n",
        "  total_sum += number\n",
        "print(\"The sum of all even numbers from 1 to 50 is:\", total_sum)"
      ],
      "metadata": {
        "colab": {
          "base_uri": "https://localhost:8080/"
        },
        "id": "snhOIjPVWrbq",
        "outputId": "f408d8e3-bbea-4750-c3b3-b60227ff22e0"
      },
      "execution_count": 25,
      "outputs": [
        {
          "output_type": "stream",
          "name": "stdout",
          "text": [
            "The sum of all even numbers from 1 to 50 is: 650\n"
          ]
        }
      ]
    }
  ]
}